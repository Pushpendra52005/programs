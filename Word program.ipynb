{
 "cells": [
  {
   "cell_type": "markdown",
   "id": "165c022e-3971-40de-bf45-09952d0e636b",
   "metadata": {},
   "source": [
    "# This program simulates a guessing game where the user tries to guess a secret word built using a set of rules.\n",
    "\n",
    "**Rules:**\n",
    "- The secret word is always three letters long.\n",
    "- The first letter can be either \"S\" or \"T\".\n",
    "- The second letter can be any vowel (a, e, i, o, u).\n",
    "- The third letter can be any consonant except \"s\" and \"t\".\n",
    "- Use nested if-else statements to determine if the user's guess matches the secret word based on these rule"
   ]
  },
  {
   "cell_type": "code",
   "execution_count": 5,
   "id": "0352a3c4-562e-46b9-b8d7-0dee603481e0",
   "metadata": {},
   "outputs": [
    {
     "name": "stdin",
     "output_type": "stream",
     "text": [
      "Enter Your Word: hello\n"
     ]
    },
    {
     "name": "stdout",
     "output_type": "stream",
     "text": [
      "Invalid Length\n"
     ]
    }
   ],
   "source": [
    "word=input(\"Enter Your Word:\")\n",
    "if len(word)==3:\n",
    "    if word[0]==\"S\" or word[0]==\"s\" or word[0]==\"T\" or word[0]==\"t\":\n",
    "        print(\"first alphabet :\",word[0])\n",
    "        if word[1]==\"a\" or word[1]==\"i\" or word[1]==\"o\" or word[1]==\"e\" or word[1]==\"u\":\n",
    "            print(\"Second Alphabet:\",word[1])\n",
    "            if word[2]!=\"s\" and word[2]!=\"t\":\n",
    "                print(\"Third Alphabet :\",word[2])\n",
    "                print(\"Wright word:\",word)\n",
    "            else:\n",
    "                print(\"Third alphabet is wrong:\",word[2])\n",
    "        else:\n",
    "            print(\"Second Alphabet is wrong:\",word[1])\n",
    "            print(\"\\n\")\n",
    "    else:\n",
    "        print(\"First Alphabet is wrong:\",word[0])\n",
    "else:\n",
    "    print(\"Invalid Length\")"
   ]
  },
  {
   "cell_type": "code",
   "execution_count": null,
   "id": "77819be4-0e28-4087-81ac-3d764e60e15c",
   "metadata": {},
   "outputs": [],
   "source": []
  }
 ],
 "metadata": {
  "kernelspec": {
   "display_name": "Python 3 (ipykernel)",
   "language": "python",
   "name": "python3"
  },
  "language_info": {
   "codemirror_mode": {
    "name": "ipython",
    "version": 3
   },
   "file_extension": ".py",
   "mimetype": "text/x-python",
   "name": "python",
   "nbconvert_exporter": "python",
   "pygments_lexer": "ipython3",
   "version": "3.11.7"
  }
 },
 "nbformat": 4,
 "nbformat_minor": 5
}
