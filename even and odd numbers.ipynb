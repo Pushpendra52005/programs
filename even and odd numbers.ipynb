{
 "cells": [
  {
   "cell_type": "markdown",
   "id": "44c08f81-3519-4862-b3ea-f070d17ecfce",
   "metadata": {},
   "source": [
    "# Even numbers and Odd numbers program"
   ]
  },
  {
   "cell_type": "code",
   "execution_count": 2,
   "id": "f7e924c1-dbf4-48d1-a354-1ec8d9f4f561",
   "metadata": {},
   "outputs": [
    {
     "name": "stdout",
     "output_type": "stream",
     "text": [
      "This is even numbers list: [2, 4, 6, 8, 10, 12, 14, 16, 18, 20, 22, 24, 26, 28, 30, 32, 34, 36, 38, 40, 42, 44, 46, 48, 50, 52, 54, 56, 58, 60, 62, 64, 66, 68, 70, 72, 74, 76, 78, 80, 82, 84, 86, 88, 90, 92, 94, 96, 98, 100]\n",
      "\n",
      "\n",
      "This is odd numbers list: [1, 3, 5, 7, 9, 11, 13, 15, 17, 19, 21, 23, 25, 27, 29, 31, 33, 35, 37, 39, 41, 43, 45, 47, 49, 51, 53, 55, 57, 59, 61, 63, 65, 67, 69, 71, 73, 75, 77, 79, 81, 83, 85, 87, 89, 91, 93, 95, 97, 99]\n"
     ]
    }
   ],
   "source": [
    "even_num=[]  # Creating an empty list for even numbers adding\n",
    "odd_num=[]    # Creating an empty list for odd numbers adding\n",
    "for i in range(1,101):  # using for loop in range data type and range must be 1,100 \n",
    "    if i%2==0:         # we use if even number condition\n",
    "        even_num.append(i) # We use the append method for adding elements in the even numbers list\n",
    "        \n",
    "    else: # than else condition for odd number\n",
    "        odd_num.append(i)# We use the append method for adding elements in the odd numbers list\n",
    "       \n",
    "print(\"This is even numbers list:\",even_num) # print even numbers list after adding even number\n",
    "print(\"\\n\")                                 # We use newline characters for  showing the gap between even numbers list and odd numbers list \n",
    "print(\"This is odd numbers list:\",odd_num)# print even numbers list after adding even number"
   ]
  },
  {
   "cell_type": "code",
   "execution_count": null,
   "id": "8d3332ce-f733-4eb5-89ee-465ab2784aa3",
   "metadata": {},
   "outputs": [],
   "source": []
  }
 ],
 "metadata": {
  "kernelspec": {
   "display_name": "Python 3 (ipykernel)",
   "language": "python",
   "name": "python3"
  },
  "language_info": {
   "codemirror_mode": {
    "name": "ipython",
    "version": 3
   },
   "file_extension": ".py",
   "mimetype": "text/x-python",
   "name": "python",
   "nbconvert_exporter": "python",
   "pygments_lexer": "ipython3",
   "version": "3.11.7"
  }
 },
 "nbformat": 4,
 "nbformat_minor": 5
}
