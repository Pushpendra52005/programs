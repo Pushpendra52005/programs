{
 "cells": [
  {
   "cell_type": "code",
   "execution_count": 2,
   "id": "deb2e0d5-7197-41e0-956b-63bb2960fb89",
   "metadata": {},
   "outputs": [
    {
     "name": "stdin",
     "output_type": "stream",
     "text": [
      "enter the number :  22\n"
     ]
    },
    {
     "name": "stdout",
     "output_type": "stream",
     "text": [
      "22 is not in the list .\n"
     ]
    }
   ],
   "source": [
    "a = [1,1,1,1,2,3,4,5,3,2,2,2,3,3,4,4,5,6,5,5,6,1,3,1,123,142,543,321,156]\n",
    "x = int(input('enter the number : '))\n",
    "if x in a:\n",
    "    print(x,' has ',a.count(x),' repetitions')\n",
    "else:\n",
    "    print(x,'is not in the list .')"
   ]
  },
  {
   "cell_type": "code",
   "execution_count": null,
   "id": "c3180545-5b23-4eb8-bf3a-6378161aa0b4",
   "metadata": {},
   "outputs": [],
   "source": []
  }
 ],
 "metadata": {
  "kernelspec": {
   "display_name": "Python 3 (ipykernel)",
   "language": "python",
   "name": "python3"
  },
  "language_info": {
   "codemirror_mode": {
    "name": "ipython",
    "version": 3
   },
   "file_extension": ".py",
   "mimetype": "text/x-python",
   "name": "python",
   "nbconvert_exporter": "python",
   "pygments_lexer": "ipython3",
   "version": "3.11.7"
  }
 },
 "nbformat": 4,
 "nbformat_minor": 5
}
