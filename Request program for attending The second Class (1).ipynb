{
 "cells": [
  {
   "cell_type": "markdown",
   "id": "6c2a941e-ca39-4dfe-8d85-0a642f53ce18",
   "metadata": {},
   "source": [
    "# Request program for attending The second Class"
   ]
  },
  {
   "cell_type": "code",
   "execution_count": 6,
   "id": "dda13b1d-6079-42e8-bc00-4d6f01318a80",
   "metadata": {},
   "outputs": [
    {
     "name": "stdout",
     "output_type": "stream",
     "text": [
      "Good Morning,\n",
      " Sir/Mam,\n",
      " Today I am late for 'ML Class'\n",
      "in'5 Am to 6AM' \n",
      "Than can i attend 'second class ML Class'\n",
      " from 8.30 AM to 9.30 AM?\n",
      "\n",
      "\n",
      "Sir and Mam\n",
      "\n",
      "\n",
      "1. If i am attend the second class ML.' press -- 1' \n",
      "2. if i can not attend the second ML class 'press --0' \n"
     ]
    },
    {
     "name": "stdin",
     "output_type": "stream",
     "text": [
      "Please Enter your Answer : 1\n"
     ]
    },
    {
     "name": "stdout",
     "output_type": "stream",
     "text": [
      "Sir and Mam answer:\n",
      "Yes 'Pushpendra' your are 'attend Second Class' \n",
      "\n",
      "\n",
      "And i am 'Sorry for the Late'\n"
     ]
    }
   ],
   "source": [
    "\n",
    "print(\"Good Morning,\\n Sir/Mam,\\n Today I am late for \\'ML Class\\'\\nin\\'5 Am to 6AM\\' \")\n",
    "print(\"Than can i attend \\'second class ML Class\\'\\n from 8.30 AM to 9.30 AM?\")\n",
    "print(\"\\n\")\n",
    "print(\"Sir and Mam\")\n",
    "print(\"\\n\")\n",
    "\n",
    "print(\"1. If i am attend the second class ML.\\' press -- 1\\' \\n2. if i can not attend the second ML class \\'press --0\\' \")\n",
    "a=int (input(\"Please Enter your Answer :\"))\n",
    "for i in [\"VijAI_Institute\"]:\n",
    "     \n",
    "    if a==1:\n",
    "        print(\"Sir and Mam answer:\")\n",
    "        print(\"Yes \\'Pushpendra\\' your are \\'attend Second Class\\' \")\n",
    "    elif a==0:\n",
    "        print(\"Sir and Mam answer:\")\n",
    "        print(\"NO \\'Pushpendra\\' you are \\'Not attend Second class'\")\n",
    "    \n",
    "    else:\n",
    "       print(\"Invalid Number\")\n",
    "print(\"\\n\")\n",
    "print(\"And i am \\'Sorry for the Late\\'\")"
   ]
  },
  {
   "cell_type": "code",
   "execution_count": null,
   "id": "e3c4e09b-3c59-41d3-91e3-68062dec0b98",
   "metadata": {},
   "outputs": [],
   "source": []
  },
  {
   "cell_type": "code",
   "execution_count": null,
   "id": "6720af1e-b46a-4e50-a008-1a98e5820b85",
   "metadata": {},
   "outputs": [],
   "source": [
    "\n"
   ]
  },
  {
   "cell_type": "code",
   "execution_count": null,
   "id": "34eef3a7-9054-49f4-9e63-4eec381de225",
   "metadata": {},
   "outputs": [],
   "source": []
  }
 ],
 "metadata": {
  "kernelspec": {
   "display_name": "Python 3 (ipykernel)",
   "language": "python",
   "name": "python3"
  },
  "language_info": {
   "codemirror_mode": {
    "name": "ipython",
    "version": 3
   },
   "file_extension": ".py",
   "mimetype": "text/x-python",
   "name": "python",
   "nbconvert_exporter": "python",
   "pygments_lexer": "ipython3",
   "version": "3.11.7"
  }
 },
 "nbformat": 4,
 "nbformat_minor": 5
}
