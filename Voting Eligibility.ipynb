{
 "cells": [
  {
   "cell_type": "markdown",
   "id": "72284a80-f6ba-48ca-9d18-0c907988dd86",
   "metadata": {},
   "source": [
    "# Voting Eligibility for India(Program)"
   ]
  },
  {
   "cell_type": "code",
   "execution_count": 3,
   "id": "274635d1-bf80-4017-8ec2-a3b18547eb6e",
   "metadata": {},
   "outputs": [
    {
     "name": "stdin",
     "output_type": "stream",
     "text": [
      "Enter Your Age: 19\n",
      "Enter Your Country India\n"
     ]
    },
    {
     "name": "stdout",
     "output_type": "stream",
     "text": [
      "You are gave the Vote\n"
     ]
    }
   ],
   "source": [
    "age=18\n",
    "x=int(input(\"Enter Your Age:\"))\n",
    "Country=\"India\"\n",
    "y=input(\"Enter Your Country\")\n",
    "if x>=age and y==Country:\n",
    "    print(\"You are gave the Vote\")\n",
    "else:\n",
    "    print(\"Try next Time\")"
   ]
  },
  {
   "cell_type": "code",
   "execution_count": null,
   "id": "8d371a4d-46b5-419f-ae6f-2809f509aa7e",
   "metadata": {},
   "outputs": [],
   "source": []
  }
 ],
 "metadata": {
  "kernelspec": {
   "display_name": "Python 3 (ipykernel)",
   "language": "python",
   "name": "python3"
  },
  "language_info": {
   "codemirror_mode": {
    "name": "ipython",
    "version": 3
   },
   "file_extension": ".py",
   "mimetype": "text/x-python",
   "name": "python",
   "nbconvert_exporter": "python",
   "pygments_lexer": "ipython3",
   "version": "3.11.7"
  }
 },
 "nbformat": 4,
 "nbformat_minor": 5
}
