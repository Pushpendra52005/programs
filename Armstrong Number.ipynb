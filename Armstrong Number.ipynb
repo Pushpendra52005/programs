{
 "cells": [
  {
   "cell_type": "code",
   "execution_count": 4,
   "id": "a4e93846-4dc1-4cdc-ad55-fa75f9f7d4c9",
   "metadata": {},
   "outputs": [
    {
     "name": "stdin",
     "output_type": "stream",
     "text": [
      "Enter Your Number: 1634\n"
     ]
    },
    {
     "name": "stdout",
     "output_type": "stream",
     "text": [
      " It is an Armstrong Number: 1634\n"
     ]
    }
   ],
   "source": [
    "num=input(\"Enter Your Number:\")\n",
    "a=0\n",
    "for i in num:\n",
    "    a+=int(i)**len(num)\n",
    "if a==int(num):\n",
    "    print(\" It is an Armstrong Number:\",num)\n",
    "else:\n",
    "    print(\" It is not an Armstrong Number:\",num)"
   ]
  },
  {
   "cell_type": "code",
   "execution_count": null,
   "id": "016dae03-200e-41a6-9339-4eb7495cbfcf",
   "metadata": {},
   "outputs": [],
   "source": []
  }
 ],
 "metadata": {
  "kernelspec": {
   "display_name": "Python 3 (ipykernel)",
   "language": "python",
   "name": "python3"
  },
  "language_info": {
   "codemirror_mode": {
    "name": "ipython",
    "version": 3
   },
   "file_extension": ".py",
   "mimetype": "text/x-python",
   "name": "python",
   "nbconvert_exporter": "python",
   "pygments_lexer": "ipython3",
   "version": "3.11.7"
  }
 },
 "nbformat": 4,
 "nbformat_minor": 5
}
